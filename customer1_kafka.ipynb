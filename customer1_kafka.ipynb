{
 "cells": [
  {
   "cell_type": "code",
   "execution_count": null,
   "metadata": {},
   "outputs": [],
   "source": [
    "#download libraries\n",
    "!pip install requests\n",
    "!pip install pandas\n",
    "!pip install kafka-python\n",
    "!pip install cassandra-driver"
   ]
  },
  {
   "cell_type": "code",
   "execution_count": null,
   "metadata": {},
   "outputs": [
    {
     "ename": "ImportError",
     "evalue": "cannot import name 'KafkaConsumer' from 'kafka' (unknown location)",
     "output_type": "error",
     "traceback": [
      "\u001b[1;31m---------------------------------------------------------------------------\u001b[0m",
      "\u001b[1;31mImportError\u001b[0m                               Traceback (most recent call last)",
      "Cell \u001b[1;32mIn[1], line 1\u001b[0m\n\u001b[1;32m----> 1\u001b[0m \u001b[38;5;28;01mfrom\u001b[39;00m\u001b[38;5;250m \u001b[39m\u001b[38;5;21;01mkafka\u001b[39;00m\u001b[38;5;250m \u001b[39m\u001b[38;5;28;01mimport\u001b[39;00m KafkaConsumer\n\u001b[0;32m      2\u001b[0m \u001b[38;5;28;01mimport\u001b[39;00m\u001b[38;5;250m \u001b[39m\u001b[38;5;21;01mpandas\u001b[39;00m\u001b[38;5;250m \u001b[39m\u001b[38;5;28;01mas\u001b[39;00m\u001b[38;5;250m \u001b[39m\u001b[38;5;21;01mpd\u001b[39;00m\n\u001b[0;32m      4\u001b[0m \u001b[38;5;66;03m# To consume latest messages and auto-commit offsets\u001b[39;00m\n",
      "\u001b[1;31mImportError\u001b[0m: cannot import name 'KafkaConsumer' from 'kafka' (unknown location)"
     ]
    }
   ],
   "source": [
    "from kafka import KafkaConsumer\n",
    "import pandas as pd\n",
    "\n",
    "# To consume latest messages and auto-commit offsets\n",
    "consumer = KafkaConsumer('airpollution_from_API', bootstrap_servers=['localhost:9092'], auto_offset_reset='latest')\n",
    "consumer2 = KafkaConsumer('weather_from_API', bootstrap_servers=['localhost:9093'], auto_offset_reset='latest')\n",
    "consumer3 = KafkaConsumer('airpollution_from_sensor', bootstrap_servers=['localhost:9094'], auto_offset_reset='latest')\n",
    "from datetime import datetime\n",
    "import time\n",
    "# subscribe to the topic and save the data to a csv file\n",
    "curr_time = datetime.now()\n",
    "from cassandra.cluster import Cluster\n",
    "cluster = Cluster(['localhost'])\n",
    "session = cluster.connect()\n",
    "session.execute(\"\"\"\n",
    "    CREATE KEYSPACE IF NOT EXISTS airpollution \n",
    "    WITH REPLICATION = {'class': 'SimpleStrategy', 'replication_factor': 1}\n",
    "\"\"\")\n",
    "session.set_keyspace('airpollution')\n",
    "\n",
    "# Create Tables\n",
    "session.execute(\"\"\"\n",
    "    CREATE TABLE IF NOT EXISTS airpollution_data (\n",
    "        district text,\n",
    "        timestamp bigint,\n",
    "        lon float,\n",
    "        lat float,\n",
    "        AQI int,\n",
    "        CO float,\n",
    "        NO float,\n",
    "        NO2 float,\n",
    "        O3 float,\n",
    "        SO2 float,\n",
    "        PM2_5 float,\n",
    "        PM10 float,\n",
    "        NH3 float,\n",
    "        PRIMARY KEY (district, timestamp)\n",
    "    )\n",
    "\"\"\")\n",
    "while True:\n",
    "\n",
    "    for message in consumer:\n",
    "        print(f\"Message received: {message.value}\")\n",
    "        # Format the data to be a dataframe\n",
    "        data = {}\n",
    "        import json\n",
    "        message_value = json.loads(message.value.decode('utf-8'))\n",
    "        data['district'] = message_value['district']\n",
    "        data['timestamp'] = message_value['timestamp']\n",
    "        data['lon'] = message_value['lon']\n",
    "        data['lat'] = message_value['lat']\n",
    "        data['AQI'] = message_value['AQI']\n",
    "        data['CO'] = message_value['CO']\n",
    "        data['NO'] = message_value['NO']\n",
    "        data['NO2'] = message_value['NO2']\n",
    "        data['O3'] = message_value['O3']\n",
    "        data['SO2'] = message_value['SO2']\n",
    "        data['PM2_5'] = message_value['PM2_5']\n",
    "        data['PM10'] = message_value['PM10']\n",
    "        data['NH3'] = message_value['NH3']\n",
    "        data = pd.DataFrame(data, index=[0])\n",
    "        print(f\"Data to insert: {data}\")\n",
    "        data.to_csv('airpollution_from_API.csv', mode='a', header=False, index=False)\n",
    "        print(\"Inserting data into Cassandra...\")\n",
    "        session.execute(\"\"\"\n",
    "            INSERT INTO airpollution_data (district, timestamp, lon, lat, AQI, CO, NO, NO2, O3, SO2, PM2_5, PM10, NH3)\n",
    "            VALUES (%s, %s, %s, %s, %s, %s, %s, %s, %s, %s, %s, %s, %s)\n",
    "        \"\"\", (data['district'].iloc[0], int(data['timestamp'].iloc[0]), float(data['lon'].iloc[0]), float(data['lat'].iloc[0]), int(data['AQI'].iloc[0]), float(data['CO'].iloc[0]), float(data['NO'].iloc[0]), float(data['NO2'].iloc[0]), float(data['O3'].iloc[0]), float(data['SO2'].iloc[0]), float(data['PM2_5'].iloc[0]), float(data['PM10'].iloc[0]), float(data['NH3'].iloc[0]))\n",
    "        ) # iloc[0] is used to get the first element of the dataframe\n",
    "        \n",
    "    \n"
   ]
  }
 ],
 "metadata": {
  "kernelspec": {
   "display_name": "myevm",
   "language": "python",
   "name": "python3"
  },
  "language_info": {
   "codemirror_mode": {
    "name": "ipython",
    "version": 3
   },
   "file_extension": ".py",
   "mimetype": "text/x-python",
   "name": "python",
   "nbconvert_exporter": "python",
   "pygments_lexer": "ipython3",
   "version": "3.10.6"
  }
 },
 "nbformat": 4,
 "nbformat_minor": 2
}
