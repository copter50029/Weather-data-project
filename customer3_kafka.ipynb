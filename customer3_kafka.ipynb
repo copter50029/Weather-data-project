{
 "cells": [
  {
   "cell_type": "code",
   "execution_count": null,
   "metadata": {},
   "outputs": [],
   "source": [
    "from kafka import KafkaConsumer\n",
    "import pandas as pd\n",
    "# connect to kafka server\n",
    "consumer3 = KafkaConsumer('airpollution_from_sensor', bootstrap_servers=['localhost:9094'], auto_offset_reset='latest')\n",
    "from datetime import datetime\n",
    "import time\n",
    "# subscribe to the topic and save the data to a csv file\n",
    "curr_time = datetime.now()\n",
    "from cassandra.cluster import Cluster\n",
    "cluster = Cluster(['localhost'])\n",
    "session = cluster.connect()\n",
    "session.execute(\"\"\"\n",
    "    CREATE KEYSPACE IF NOT EXISTS airpollution \n",
    "    WITH REPLICATION = {'class': 'SimpleStrategy', 'replication_factor': 1}\n",
    "\"\"\")\n",
    "session.set_keyspace('airpollution')\n",
    "session.execute(\"\"\"\n",
    "        CREATE TABLE IF NOT EXISTS sensor_data (\n",
    "            locationName text,\n",
    "            timestamp bigint,\n",
    "            pm02 float,\n",
    "            atmp float,\n",
    "            rhum float,\n",
    "            rco2 float,\n",
    "            PRIMARY KEY (locationName, timestamp)\n",
    "        )\n",
    "    \"\"\")\n",
    "\n",
    "while True:\n",
    "    from cassandra.cluster import Cluster\n",
    "    cluster = Cluster(['localhost'])\n",
    "    session = cluster.connect('airpollution')\n",
    "    import json\n",
    "    for message in consumer3:\n",
    "        print(f\"Message received: {message.value}\")\n",
    "        data = {}\n",
    "        message_value = json.loads(message.value.decode('utf-8'))\n",
    "        data['locationName'] = message_value['locationName']\n",
    "        data['timestamp'] = message_value['timestamp']\n",
    "        data['pm02'] = message_value['pm02']\n",
    "        data['atmp'] = message_value['atmp']\n",
    "        data['rhum'] = message_value['rhum']\n",
    "        data['rco2'] = message_value['rco2']\n",
    "        print(f\"Data to insert: {data}\")\n",
    "        df = pd.DataFrame(data, index=[0])\n",
    "        df.to_csv('airpollution_sensor.csv', mode='a', header=False, index=False)\n",
    "        print(\"Inserting data into Cassandra...\")\n",
    "        session.execute(\n",
    "            \"\"\"\n",
    "            INSERT INTO sensor_data (locationName, timestamp, pm02, atmp, rhum, rco2)\n",
    "            VALUES (%s, %s, %s, %s, %s, %s)\n",
    "            \"\"\",\n",
    "            (data['locationName'], int(data['timestamp']), data['pm02'], data['atmp'], data['rhum'], data['rco2'])\n",
    "        )\n",
    "        \n",
    "    "
   ]
  }
 ],
 "metadata": {
  "kernelspec": {
   "display_name": "myevm",
   "language": "python",
   "name": "python3"
  },
  "language_info": {
   "codemirror_mode": {
    "name": "ipython",
    "version": 3
   },
   "file_extension": ".py",
   "mimetype": "text/x-python",
   "name": "python",
   "nbconvert_exporter": "python",
   "pygments_lexer": "ipython3",
   "version": "3.10.6"
  }
 },
 "nbformat": 4,
 "nbformat_minor": 2
}
